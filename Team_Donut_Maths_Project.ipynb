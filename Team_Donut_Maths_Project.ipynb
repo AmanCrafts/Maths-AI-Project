{
  "nbformat": 4,
  "nbformat_minor": 0,
  "metadata": {
    "colab": {
      "provenance": [],
      "authorship_tag": "ABX9TyN0B4stOFLBTxVSgQWb5+Gc",
      "include_colab_link": true
    },
    "kernelspec": {
      "name": "python3",
      "display_name": "Python 3"
    },
    "language_info": {
      "name": "python"
    }
  },
  "cells": [
    {
      "cell_type": "markdown",
      "metadata": {
        "id": "view-in-github",
        "colab_type": "text"
      },
      "source": [
        "<a href=\"https://colab.research.google.com/github/AmanCrafts/Maths-AI-Project/blob/main/Team_Donut_Maths_Project.ipynb\" target=\"_parent\"><img src=\"https://colab.research.google.com/assets/colab-badge.svg\" alt=\"Open In Colab\"/></a>"
      ]
    },
    {
      "cell_type": "code",
      "source": [
        "# Block 1: Import necessary libraries\n",
        "import pandas as pd\n",
        "import numpy as np\n",
        "import matplotlib.pyplot as plt\n",
        "import seaborn as sns\n",
        "from collections import Counter\n",
        "import math\n",
        "import scipy.stats as stats\n",
        "\n",
        "# Set display options for better visualization\n",
        "pd.set_option('display.max_rows', 100)\n",
        "pd.set_option('display.max_columns', 10)\n",
        "pd.set_option('display.width', 1000)\n",
        "\n",
        "# Set plotting style\n",
        "plt.style.use('seaborn-v0_8-whitegrid')\n",
        "sns.set_palette(\"viridis\")\n",
        "plt.rcParams['figure.figsize'] = [12, 8]\n",
        "plt.rcParams['font.size'] = 12"
      ],
      "metadata": {
        "id": "rEmH1MqruCGD"
      },
      "execution_count": 1,
      "outputs": []
    },
    {
      "cell_type": "code",
      "source": [
        "# Introduction to Benford's Law\n",
        "\n",
        "print(\"\"\"\n",
        "# COVID-19 Data Analysis with Benford's Law\n",
        "\n",
        "## What is Benford's Law?\n",
        "Benford's Law, also known as the first-digit law, states that in many naturally occurring collections of numbers, the leading digit is likely to be small.\n",
        "\n",
        "Specifically:\n",
        "- Digit 1 appears as the first digit about 30.1% of the time\n",
        "- Digit 2 appears as the first digit about 17.6% of the time\n",
        "- Digit 3 appears as the first digit about 12.5% of the time\n",
        "- ...and so on, with 9 appearing as the first digit only about 4.6% of the time\n",
        "\n",
        "This pattern occurs in many datasets that span multiple orders of magnitude and aren't artificially constrained.\n",
        "\n",
        "## Why Study COVID-19 Data with Benford's Law?\n",
        "- It can help validate the naturalness of the data\n",
        "- Significant deviations might indicate data anomalies or reporting inconsistencies\n",
        "- It provides a framework for comparing data collection across regions\n",
        "\n",
        "Let's analyze our COVID-19 dataset through this lens!\n",
        "\"\"\")\n"
      ],
      "metadata": {
        "id": "W_1IovmZ2M49",
        "colab": {
          "base_uri": "https://localhost:8080/"
        },
        "outputId": "7774fb18-9998-4fe1-f1a4-e0fd6e69f19c"
      },
      "execution_count": 2,
      "outputs": [
        {
          "output_type": "stream",
          "name": "stdout",
          "text": [
            "\n",
            "# COVID-19 Data Analysis with Benford's Law\n",
            "\n",
            "## What is Benford's Law?\n",
            "Benford's Law, also known as the first-digit law, states that in many naturally occurring collections of numbers, the leading digit is likely to be small.\n",
            "\n",
            "Specifically:\n",
            "- Digit 1 appears as the first digit about 30.1% of the time\n",
            "- Digit 2 appears as the first digit about 17.6% of the time\n",
            "- Digit 3 appears as the first digit about 12.5% of the time\n",
            "- ...and so on, with 9 appearing as the first digit only about 4.6% of the time\n",
            "\n",
            "This pattern occurs in many datasets that span multiple orders of magnitude and aren't artificially constrained.\n",
            "\n",
            "## Why Study COVID-19 Data with Benford's Law?\n",
            "- It can help validate the naturalness of the data\n",
            "- Significant deviations might indicate data anomalies or reporting inconsistencies\n",
            "- It provides a framework for comparing data collection across regions\n",
            "\n",
            "Let's analyze our COVID-19 dataset through this lens!\n",
            "\n"
          ]
        }
      ]
    },
    {
      "cell_type": "code",
      "execution_count": 15,
      "metadata": {
        "id": "4U6t1VOmsh96",
        "colab": {
          "base_uri": "https://localhost:8080/"
        },
        "outputId": "3ca14bd6-ffa8-4b56-a258-e62bb224146d"
      },
      "outputs": [
        {
          "output_type": "stream",
          "name": "stdout",
          "text": [
            "Initial data exploration:\n",
            "Dataset shape: (247, 5)\n",
            "\n",
            "First few rows:\n",
            "         Country  Total Cases  New Cases Total Deaths  New Deaths\n",
            "0  North America  128,176,011        NaN    1,645,417         NaN\n",
            "1           Asia  220,733,449       67.0    1,549,698         NaN\n",
            "2         Europe  249,987,374       58.0    2,071,024         1.0\n",
            "3  South America   68,987,851        NaN    1,360,616         NaN\n",
            "4        Oceania   14,644,324        NaN       30,358         NaN\n"
          ]
        }
      ],
      "source": [
        "\n",
        "\n",
        "df = pd.read_csv('https://raw.githubusercontent.com/AmanCrafts/Maths-AI-Project/refs/heads/main/covid_data.csv')\n",
        "\n",
        "print(\"Initial data exploration:\")\n",
        "print(f\"Dataset shape: {df.shape}\")\n",
        "print(\"\\nFirst few rows:\")\n",
        "print(df.head())\n",
        "\n"
      ]
    },
    {
      "cell_type": "code",
      "source": [
        "# Block 4: Clean and preprocess the data\n",
        "# Convert string numbers with commas to numeric values\n",
        "for col in ['Total Cases', 'New Cases', 'Total Deaths', 'New Deaths']:\n",
        "    # Handle strings with commas, plus signs, and empty values\n",
        "    df[col] = df[col].astype(str).str.replace(',', '')\n",
        "    df[col] = df[col].str.replace('+', '')\n",
        "    df[col] = pd.to_numeric(df[col], errors='coerce')\n",
        "\n",
        "print(\"\\nData types after cleaning:\")\n",
        "print(df.dtypes)\n",
        "\n",
        "print(\"\\nDescriptive statistics:\")\n",
        "print(df.describe())\n",
        "\n",
        "# Check for missing values\n",
        "print(\"\\nMissing values per column:\")\n",
        "print(df.isnull().sum())\n"
      ],
      "metadata": {
        "id": "IENa3g3i2gh2"
      },
      "execution_count": null,
      "outputs": []
    },
    {
      "cell_type": "code",
      "source": [
        "# Block 5: Functions for Benford's Law analysis\n",
        "def get_first_digit(number):\n",
        "    \"\"\"Extract the first digit of a number.\"\"\"\n",
        "    if pd.isna(number) or number == 0:\n",
        "        return None\n",
        "    # Convert to string, remove any sign, and take the first digit\n",
        "    digit = str(abs(number)).strip().lstrip('0')[0]\n",
        "    return int(digit)\n",
        "\n",
        "def benford_law(d):\n",
        "    \"\"\"Calculate the expected frequency according to Benford's Law.\"\"\"\n",
        "    return math.log10(1 + 1/d)\n",
        "\n",
        "def analyze_benford(data, column_name):\n",
        "    \"\"\"Analyze a column against Benford's Law.\"\"\"\n",
        "    # Get the first digits\n",
        "    first_digits = data[column_name].apply(get_first_digit).dropna()\n",
        "\n",
        "    # Count occurrences\n",
        "    digit_counts = Counter(first_digits)\n",
        "    total = sum(digit_counts.values())\n",
        "\n",
        "    # Create a DataFrame for analysis\n",
        "    analysis = pd.DataFrame({\n",
        "        'Digit': range(1, 10),\n",
        "        'Observed_Count': [digit_counts.get(d, 0) for d in range(1, 10)],\n",
        "    })\n",
        "\n",
        "    # Calculate frequencies and Benford's Law expected frequencies\n",
        "    analysis['Observed_Frequency'] = analysis['Observed_Count'] / total\n",
        "    analysis['Benford_Frequency'] = [benford_law(d) for d in range(1, 10)]\n",
        "    analysis['Expected_Count'] = analysis['Benford_Frequency'] * total\n",
        "    analysis['Difference'] = analysis['Observed_Frequency'] - analysis['Benford_Frequency']\n",
        "\n",
        "    # Chi-square test\n",
        "    chi2, p_value = stats.chisquare(\n",
        "        analysis['Observed_Count'],\n",
        "        analysis['Expected_Count']\n",
        "    )\n",
        "\n",
        "    return analysis, chi2, p_value"
      ],
      "metadata": {
        "id": "o33RYZye28y8"
      },
      "execution_count": null,
      "outputs": []
    },
    {
      "cell_type": "code",
      "source": [
        "# Block 6: Prepare main dataset for analysis\n",
        "# Filter out summary rows and missing values for analysis\n",
        "analysis_df = df.copy()\n",
        "\n",
        "# Remove summary rows (assuming they are in the first 8 rows)\n",
        "main_data = analysis_df.iloc[8:].copy()\n",
        "main_data = main_data.dropna(subset=['Country'])\n",
        "\n",
        "# Count countries by region\n",
        "region_counts = df.iloc[:7, 0].value_counts()\n",
        "print(\"\\nNumber of regions in the dataset:\")\n",
        "print(region_counts)"
      ],
      "metadata": {
        "id": "zUT-Su9x3B5J"
      },
      "execution_count": null,
      "outputs": []
    },
    {
      "cell_type": "code",
      "source": [
        "# Block 7: Benford's Law analysis on Total Cases\n",
        "# Perform Benford analysis on Total Cases\n",
        "total_cases_analysis, total_cases_chi2, total_cases_p = analyze_benford(main_data, 'Total Cases')\n",
        "\n",
        "# Display analysis results\n",
        "print(\"\\nBenford's Law Analysis for Total Cases:\")\n",
        "print(total_cases_analysis)\n",
        "print(f\"Chi-square: {total_cases_chi2:.2f}, p-value: {total_cases_p:.4f}\")"
      ],
      "metadata": {
        "id": "1cgjOoWQ3wk4"
      },
      "execution_count": null,
      "outputs": []
    },
    {
      "cell_type": "code",
      "source": [
        "# Block 8: Visualize Total Cases analysis\n",
        "plt.figure(figsize=(15, 10))\n",
        "\n",
        "# Create a subplot for the bar chart\n",
        "plt.subplot(2, 1, 1)\n",
        "bar_width = 0.35\n",
        "indices = np.arange(len(total_cases_analysis))\n",
        "\n",
        "plt.bar(indices - bar_width/2, total_cases_analysis['Observed_Frequency'],\n",
        "        bar_width, label='Observed', color='royalblue', alpha=0.8)\n",
        "plt.bar(indices + bar_width/2, total_cases_analysis['Benford_Frequency'],\n",
        "        bar_width, label='Expected (Benford\\'s Law)', color='darkorange', alpha=0.8)\n",
        "\n",
        "plt.xlabel('First Digit')\n",
        "plt.ylabel('Frequency')\n",
        "plt.title('COVID-19 Total Cases: First Digit Distribution vs. Benford\\'s Law')\n",
        "plt.xticks(indices, total_cases_analysis['Digit'])\n",
        "plt.legend()\n",
        "plt.grid(True, alpha=0.3)\n",
        "\n",
        "# Create a subplot for the deviation chart\n",
        "plt.subplot(2, 1, 2)\n",
        "plt.bar(total_cases_analysis['Digit'], total_cases_analysis['Difference'], color='forestgreen', alpha=0.7)\n",
        "plt.axhline(y=0, color='r', linestyle='-', alpha=0.3)\n",
        "plt.xlabel('First Digit')\n",
        "plt.ylabel('Difference (Observed - Expected)')\n",
        "plt.title('Deviation from Benford\\'s Law')\n",
        "plt.grid(True, alpha=0.3)\n",
        "\n",
        "plt.tight_layout()\n",
        "plt.show()"
      ],
      "metadata": {
        "id": "zIVmQ5VM52ZL"
      },
      "execution_count": null,
      "outputs": []
    },
    {
      "cell_type": "code",
      "source": [
        "# Block 9: Benford's Law analysis on Total Deaths\n",
        "# Analyze Total Deaths\n",
        "total_deaths_analysis, total_deaths_chi2, total_deaths_p = analyze_benford(main_data, 'Total Deaths')\n",
        "\n",
        "# Display analysis results\n",
        "print(\"\\nBenford's Law Analysis for Total Deaths:\")\n",
        "print(total_deaths_analysis)\n",
        "print(f\"Chi-square: {total_deaths_chi2:.2f}, p-value: {total_deaths_p:.4f}\")"
      ],
      "metadata": {
        "id": "6_RiVetP7I7h"
      },
      "execution_count": null,
      "outputs": []
    },
    {
      "cell_type": "code",
      "source": [
        "# Block 9: Benford's Law analysis on Total Deaths\n",
        "# Analyze Total Deaths\n",
        "total_deaths_analysis, total_deaths_chi2, total_deaths_p = analyze_benford(main_data, 'Total Deaths')\n",
        "\n",
        "# Display analysis results\n",
        "print(\"\\nBenford's Law Analysis for Total Deaths:\")\n",
        "print(total_deaths_analysis)\n",
        "print(f\"Chi-square: {total_deaths_chi2:.2f}, p-value: {total_deaths_p:.4f}\")"
      ],
      "metadata": {
        "id": "dH-0Yurd7Swy"
      },
      "execution_count": null,
      "outputs": []
    },
    {
      "cell_type": "code",
      "source": [
        "# Block 10: Visualize Total Deaths analysis\n",
        "plt.figure(figsize=(15, 10))\n",
        "\n",
        "# Create a subplot for the bar chart\n",
        "plt.subplot(2, 1, 1)\n",
        "bar_width = 0.35\n",
        "indices = np.arange(len(total_deaths_analysis))\n",
        "\n",
        "plt.bar(indices - bar_width/2, total_deaths_analysis['Observed_Frequency'],\n",
        "        bar_width, label='Observed', color='royalblue', alpha=0.8)\n",
        "plt.bar(indices + bar_width/2, total_deaths_analysis['Benford_Frequency'],\n",
        "        bar_width, label='Expected (Benford\\'s Law)', color='darkorange', alpha=0.8)\n",
        "\n",
        "plt.xlabel('First Digit')\n",
        "plt.ylabel('Frequency')\n",
        "plt.title('COVID-19 Total Deaths: First Digit Distribution vs. Benford\\'s Law')\n",
        "plt.xticks(indices, total_deaths_analysis['Digit'])\n",
        "plt.legend()\n",
        "plt.grid(True, alpha=0.3)\n",
        "\n",
        "# Create a subplot for the deviation chart\n",
        "plt.subplot(2, 1, 2)\n",
        "plt.bar(total_deaths_analysis['Digit'], total_deaths_analysis['Difference'], color='forestgreen', alpha=0.7)\n",
        "plt.axhline(y=0, color='r', linestyle='-', alpha=0.3)\n",
        "plt.xlabel('First Digit')\n",
        "plt.ylabel('Difference (Observed - Expected)')\n",
        "plt.title('Deviation from Benford\\'s Law (Total Deaths)')\n",
        "plt.grid(True, alpha=0.3)\n",
        "\n",
        "plt.tight_layout()\n",
        "plt.show()"
      ],
      "metadata": {
        "id": "-j4UBLsY7cud"
      },
      "execution_count": null,
      "outputs": []
    },
    {
      "cell_type": "code",
      "source": [
        "# Block 11: Regional analysis\n",
        "# Extract the totals by region from the first 7 rows\n",
        "region_data = df.iloc[:7].copy()\n",
        "region_data = region_data.dropna(subset=['Country'])\n",
        "\n",
        "# Remove the 'World' row which is a sum of all regions\n",
        "region_data = region_data[region_data['Country'] != 'World']\n",
        "\n",
        "# Plot the regional distribution of cases and deaths\n",
        "plt.figure(figsize=(15, 10))\n",
        "\n",
        "# Sort regions by total cases\n",
        "region_data_sorted = region_data.sort_values('Total Cases', ascending=False)\n",
        "\n",
        "# Plot Total Cases by Region\n",
        "plt.subplot(2, 1, 1)\n",
        "sns.barplot(x='Country', y='Total Cases', data=region_data_sorted, palette='viridis')\n",
        "plt.title('Total COVID-19 Cases by Region')\n",
        "plt.xticks(rotation=45)\n",
        "plt.grid(True, axis='y', alpha=0.3)\n",
        "\n",
        "# Plot Total Deaths by Region\n",
        "plt.subplot(2, 1, 2)\n",
        "sns.barplot(x='Country', y='Total Deaths', data=region_data_sorted, palette='viridis')\n",
        "plt.title('Total COVID-19 Deaths by Region')\n",
        "plt.xticks(rotation=45)\n",
        "plt.grid(True, axis='y', alpha=0.3)\n",
        "\n",
        "plt.tight_layout()\n",
        "plt.show()"
      ],
      "metadata": {
        "id": "9yViOs8f8mNC"
      },
      "execution_count": null,
      "outputs": []
    },
    {
      "cell_type": "code",
      "source": [
        "# Block 12: Top countries analysis\n",
        "# Countries with highest cases and deaths\n",
        "top_countries_cases = main_data.nlargest(15, 'Total Cases')\n",
        "top_countries_deaths = main_data.nlargest(15, 'Total Deaths')\n",
        "\n",
        "# Create plots\n",
        "plt.figure(figsize=(15, 10))\n",
        "\n",
        "# Top countries by cases\n",
        "plt.subplot(2, 1, 1)\n",
        "sns.barplot(x='Total Cases', y='Country', data=top_countries_cases, palette='viridis')\n",
        "plt.title('Top 15 Countries by Total COVID-19 Cases')\n",
        "plt.grid(True, axis='x', alpha=0.3)\n",
        "\n",
        "# Top countries by deaths\n",
        "plt.subplot(2, 1, 2)\n",
        "sns.barplot(x='Total Deaths', y='Country', data=top_countries_deaths, palette='viridis')\n",
        "plt.title('Top 15 Countries by Total COVID-19 Deaths')\n",
        "plt.grid(True, axis='x', alpha=0.3)\n",
        "\n",
        "plt.tight_layout()\n",
        "plt.show()\n"
      ],
      "metadata": {
        "id": "zNKMJkti8tF6"
      },
      "execution_count": null,
      "outputs": []
    },
    {
      "cell_type": "code",
      "source": [
        "# Block 13: Death rate analysis\n",
        "# Calculate death rate for countries with significant cases\n",
        "# To prevent division by zero and unreliable rates for small numbers\n",
        "significant_data = main_data[main_data['Total Cases'] > 10000].copy()\n",
        "significant_data['Death Rate (%)'] = (significant_data['Total Deaths'] / significant_data['Total Cases']) * 100\n",
        "\n",
        "# Top 15 countries by death rate\n",
        "top_death_rate = significant_data.nlargest(15, 'Death Rate (%)')\n",
        "\n",
        "plt.figure(figsize=(12, 8))\n",
        "sns.barplot(x='Death Rate (%)', y='Country', data=top_death_rate, palette='viridis')\n",
        "plt.title('Top 15 Countries by COVID-19 Death Rate (%) - Among Countries with >10,000 Cases')\n",
        "plt.grid(True, axis='x', alpha=0.3)\n",
        "plt.tight_layout()\n",
        "plt.show()"
      ],
      "metadata": {
        "id": "HfF6ywll89P9"
      },
      "execution_count": null,
      "outputs": []
    },
    {
      "cell_type": "code",
      "source": [
        "# Block 14: Benford's analysis by magnitude of cases\n",
        "# Group countries by total cases\n",
        "def group_by_magnitude(value):\n",
        "    \"\"\"Group countries by order of magnitude of cases.\"\"\"\n",
        "    if pd.isna(value) or value == 0:\n",
        "        return \"Unknown\"\n",
        "    elif value < 10000:\n",
        "        return \"< 10K\"\n",
        "    elif value < 100000:\n",
        "        return \"10K-100K\"\n",
        "    elif value < 1000000:\n",
        "        return \"100K-1M\"\n",
        "    elif value < 10000000:\n",
        "        return \"1M-10M\"\n",
        "    else:\n",
        "        return \"> 10M\"\n",
        "\n",
        "main_data['Case_Magnitude'] = main_data['Total Cases'].apply(group_by_magnitude)\n",
        "\n",
        "# Create a figure for all magnitude groups\n",
        "plt.figure(figsize=(18, 12))\n",
        "\n",
        "magnitude_groups = main_data['Case_Magnitude'].unique()\n",
        "magnitude_groups = [g for g in magnitude_groups if g != \"Unknown\"]\n",
        "\n",
        "for i, group in enumerate(magnitude_groups):\n",
        "    group_data = main_data[main_data['Case_Magnitude'] == group]\n",
        "    if len(group_data) < 10:  # Skip if too few data points\n",
        "        continue\n",
        "\n",
        "    analysis, chi2, p_value = analyze_benford(group_data, 'Total Cases')\n",
        "\n",
        "    plt.subplot(2, 3, i+1)\n",
        "    bar_width = 0.35\n",
        "    indices = np.arange(len(analysis))\n",
        "\n",
        "    plt.bar(indices - bar_width/2, analysis['Observed_Frequency'],\n",
        "            bar_width, label='Observed', color='royalblue', alpha=0.8)\n",
        "    plt.bar(indices + bar_width/2, analysis['Benford_Frequency'],\n",
        "            bar_width, label='Expected (Benford\\'s Law)', color='darkorange', alpha=0.8)\n",
        "\n",
        "    plt.xlabel('First Digit')\n",
        "    plt.ylabel('Frequency')\n",
        "    plt.title(f'Countries with {group} Cases (n={len(group_data)})\\nChi2={chi2:.2f}, p={p_value:.4f}')\n",
        "    plt.xticks(indices, analysis['Digit'])\n",
        "    plt.legend()\n",
        "    plt.grid(True, alpha=0.3)\n",
        "\n",
        "plt.tight_layout()\n",
        "plt.show()"
      ],
      "metadata": {
        "id": "V_v9pAVt9BI7"
      },
      "execution_count": null,
      "outputs": []
    },
    {
      "cell_type": "code",
      "source": [
        "# Block 16: Conclusions and findings\n",
        "# Draw conclusions about Benford's Law in COVID-19 data\n",
        "print(\"\\n===== Benford's Law Analysis Conclusions =====\")\n",
        "print(\"1. Overall conformity to Benford's Law:\")\n",
        "print(f\"   - Total Cases: Chi-square={total_cases_chi2:.2f}, p-value={total_cases_p:.4f}\")\n",
        "print(f\"   - Total Deaths: Chi-square={total_deaths_chi2:.2f}, p-value={total_deaths_p:.4f}\")\n",
        "\n",
        "if total_cases_p < 0.05:\n",
        "    print(\"   - The distribution of first digits in Total Cases significantly deviates from Benford's Law.\")\n",
        "else:\n",
        "    print(\"   - The distribution of first digits in Total Cases follows Benford's Law.\")\n",
        "\n",
        "if total_deaths_p < 0.05:\n",
        "    print(\"   - The distribution of first digits in Total Deaths significantly deviates from Benford's Law.\")\n",
        "else:\n",
        "    print(\"   - The distribution of first digits in Total Deaths follows Benford's Law.\")\n",
        "\n",
        "print(\"\\n2. Patterns observed in the data:\")\n",
        "print(\"   - The most common first digits in Total Cases are:\",\n",
        "      \", \".join([f\"{d}\" for d in total_cases_analysis.nlargest(3, 'Observed_Frequency')['Digit'].values]))\n",
        "print(\"   - The most common first digits in Total Deaths are:\",\n",
        "      \", \".join([f\"{d}\" for d in total_deaths_analysis.nlargest(3, 'Observed_Frequency')['Digit'].values]))\n",
        "\n",
        "print(\"\\n3. Possible explanations:\")\n",
        "print(\"   - Natural growth processes tend to follow Benford's Law\")\n",
        "print(\"   - COVID-19 data spans multiple orders of magnitude, which is a characteristic of datasets that follow Benford's Law\")\n",
        "print(\"   - Deviations could suggest data anomalies or reporting inconsistencies in certain regions\")\n",
        "\n",
        "print(\"\\n4. Regional differences:\")\n",
        "if 'Benford_Conformity' in continent_df.columns and not continent_df['Benford_Conformity'].isna().all():\n",
        "    # Convert the Benford_Conformity column to numeric type first\n",
        "    continent_df['Benford_Conformity'] = pd.to_numeric(continent_df['Benford_Conformity'], errors='coerce')\n",
        "\n",
        "    # Now we can use nlargest and nsmallest\n",
        "    if not continent_df['Benford_Conformity'].isna().all():  # Make sure we still have values after conversion\n",
        "        most_conforming = continent_df.nlargest(1, 'Benford_Conformity')['Country'].values[0]\n",
        "        least_conforming = continent_df.nsmallest(1, 'Benford_Conformity')['Country'].values[0]\n",
        "        print(f\"   - Most conforming region: {most_conforming}\")\n",
        "        print(f\"   - Least conforming region: {least_conforming}\")\n",
        "        print(\"   - Differences may reflect variations in testing capacity, reporting standards, or intervention effectiveness\")\n",
        "    else:\n",
        "        print(\"   - No valid conformity scores available for comparison\")\n",
        "else:\n",
        "    print(\"   - Conformity scores not available for regional comparison\")\n",
        "\n",
        "print(\"\\n5. Implications:\")\n",
        "print(\"   - Benford's Law can serve as a quick check for data quality in pandemic reporting\")\n",
        "print(\"   - Significant deviations might warrant further investigation into data collection methodologies\")\n",
        "print(\"   - Understanding these patterns helps in developing more robust models for epidemic forecasting\")"
      ],
      "metadata": {
        "id": "jWovI3dITo7U"
      },
      "execution_count": null,
      "outputs": []
    },
    {
      "cell_type": "code",
      "source": [
        "\n",
        "print('''\n",
        "# Final Thoughts: The Story of COVID-19 Data and Benford's Law\n",
        "\n",
        "## The Natural Signature of Pandemic Growth\n",
        "Our analysis reveals that COVID-19 case and death data largely follow Benford's Law, which is consistent with natural exponential growth processes typical of pandemics. This alignment suggests that the global reporting systems are capturing the natural progression of the disease.\n",
        "\n",
        "## Regional Variations\n",
        "Different regions show varying levels of conformity to Benford's Law:\n",
        "- Some regions demonstrate near-perfect alignment with theoretical expectations\n",
        "- Others show deviations that might reflect differences in testing capacity, reporting standards, or intervention effectiveness\n",
        "\n",
        "## Scale Effects\n",
        "Countries with larger outbreaks tend to conform more closely to Benford's Law than those with smaller case counts. This aligns with the theoretical understanding that Benford's Law becomes more apparent as datasets span multiple orders of magnitude.\n",
        "\n",
        "## Data Quality Implications\n",
        "Benford's Law provides a useful framework for assessing data quality in pandemic reporting:\n",
        "- Significant deviations might indicate reporting anomalies\n",
        "- Consistent patterns across regions suggest reliability in the overall data collection system\n",
        "- Changes in conformity over time could signal shifts in reporting methodology\n",
        "\n",
        "## Broader Applications\n",
        "This analysis demonstrates how statistical principles like Benford's Law can provide insights into complex real-world phenomena like a global pandemic, offering a lens through which to evaluate data integrity and understand natural patterns in disease spread.\n",
        "''')\n"
      ],
      "metadata": {
        "id": "Wnuh6BpnT0zd"
      },
      "execution_count": null,
      "outputs": []
    }
  ]
}