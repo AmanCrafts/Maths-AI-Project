{
  "nbformat": 4,
  "nbformat_minor": 0,
  "metadata": {
    "colab": {
      "provenance": [],
      "authorship_tag": "ABX9TyO1ucHltyzWVm/bzTACQFD4",
      "include_colab_link": true
    },
    "kernelspec": {
      "name": "python3",
      "display_name": "Python 3"
    },
    "language_info": {
      "name": "python"
    }
  },
  "cells": [
    {
      "cell_type": "markdown",
      "metadata": {
        "id": "view-in-github",
        "colab_type": "text"
      },
      "source": [
        "<a href=\"https://colab.research.google.com/github/AmanCrafts/Maths-AI-Project/blob/main/Team_Donut_Maths_AI_Project.ipynb\" target=\"_parent\"><img src=\"https://colab.research.google.com/assets/colab-badge.svg\" alt=\"Open In Colab\"/></a>"
      ]
    },
    {
      "cell_type": "code",
      "source": [
        "import pandas as pd\n",
        "import numpy as np\n",
        "import matplotlib.pyplot as plt\n",
        "import seaborn as sns\n",
        "from collections import Counter"
      ],
      "metadata": {
        "id": "rEmH1MqruCGD"
      },
      "execution_count": null,
      "outputs": []
    },
    {
      "cell_type": "code",
      "execution_count": 2,
      "metadata": {
        "id": "4U6t1VOmsh96",
        "colab": {
          "base_uri": "https://localhost:8080/"
        },
        "outputId": "903a9ae8-d50a-4116-e58f-50d031155b08"
      },
      "outputs": [
        {
          "output_type": "stream",
          "name": "stdout",
          "text": [
            "Drive already mounted at /content/drive; to attempt to forcibly remount, call drive.mount(\"/content/drive\", force_remount=True).\n",
            "           Country  Total Cases  New Cases Total Deaths  New Deaths\n",
            "0    North America  128,176,011        NaN    1,645,417         NaN\n",
            "1             Asia  220,733,449       67.0    1,549,698         NaN\n",
            "2           Europe  249,987,374       58.0    2,071,024         1.0\n",
            "3    South America   68,987,851        NaN    1,360,616         NaN\n",
            "4          Oceania   14,644,324        NaN       30,358         NaN\n",
            "..             ...          ...        ...          ...         ...\n",
            "242         Total:   68,987,851        NaN    1,360,616         NaN\n",
            "243         Total:   14,644,324        NaN       30,358         NaN\n",
            "244         Total:   12,837,874        NaN      258,830         NaN\n",
            "245         Total:          721        NaN           15         NaN\n",
            "246         Total:  695,367,604      125.0    6,915,958         1.0\n",
            "\n",
            "[247 rows x 5 columns]\n"
          ]
        }
      ],
      "source": [
        "from google.colab import drive\n",
        "drive.mount('/content/drive') #connected to drive\n",
        "\n",
        "df = pd.read_csv('/content/drive/MyDrive/MathsProject/covid_data.csv')\n",
        "print(df.head)\n"
      ]
    },
    {
      "cell_type": "code",
      "source": [],
      "metadata": {
        "id": "OweCsKSxvBmD"
      },
      "execution_count": null,
      "outputs": []
    }
  ]
}